{
 "cells": [
  {
   "cell_type": "code",
   "execution_count": 88,
   "metadata": {},
   "outputs": [
    {
     "name": "stdout",
     "output_type": "stream",
     "text": [
      "The lab_black extension is already loaded. To reload it, use:\n",
      "  %reload_ext lab_black\n"
     ]
    }
   ],
   "source": [
    "%load_ext lab_black"
   ]
  },
  {
   "cell_type": "code",
   "execution_count": 89,
   "metadata": {},
   "outputs": [
    {
     "name": "stdout",
     "output_type": "stream",
     "text": [
      "The autoreload extension is already loaded. To reload it, use:\n",
      "  %reload_ext autoreload\n"
     ]
    }
   ],
   "source": [
    "%load_ext autoreload\n",
    "%autoreload 2"
   ]
  },
  {
   "cell_type": "code",
   "execution_count": 90,
   "metadata": {
    "colab": {
     "base_uri": "https://localhost:8080/"
    },
    "executionInfo": {
     "elapsed": 4227,
     "status": "ok",
     "timestamp": 1615322247275,
     "user": {
      "displayName": "ERNESTO GREGORI MARTINEZ",
      "photoUrl": "",
      "userId": "05430470184091027939"
     },
     "user_tz": -60
    },
    "id": "statistical-mainland",
    "outputId": "5256dc47-25db-45cf-c80e-44e6d69e751e"
   },
   "outputs": [],
   "source": [
    "import geopandas as gpd\n",
    "import lxml\n",
    "import missingno as msno\n",
    "import numpy as np\n",
    "import pandas as pd\n",
    "from shapely.geometry import Point\n",
    "\n",
    "from urbana.constants import DIR_REPO, DIR_DATA\n",
    "from urbana.data.datasets import merge_datasets\n",
    "from urbana.data.geo import harversine_distance_btw_geoseries_point"
   ]
  },
  {
   "cell_type": "code",
   "execution_count": 91,
   "metadata": {
    "tags": []
   },
   "outputs": [],
   "source": [
    "# papermill parameters cell\n",
    "# https://papermill.readthedocs.io/en/latest/usage-parameterize.html\n",
    "\n",
    "YEAR = 2017  # Years allowed: [2017, 2018]\n",
    "MONTH = 7\n",
    "\n",
    "SAVE_DATA = True\n",
    "OUTPUT_WARNINGS = False"
   ]
  },
  {
   "cell_type": "code",
   "execution_count": 92,
   "metadata": {},
   "outputs": [],
   "source": [
    "if OUTPUT_WARNINGS is False:\n",
    "    import warnings\n",
    "\n",
    "    warnings.filterwarnings(\"ignore\")"
   ]
  },
  {
   "cell_type": "markdown",
   "metadata": {},
   "source": [
    "# Parameter Check"
   ]
  },
  {
   "cell_type": "code",
   "execution_count": 93,
   "metadata": {},
   "outputs": [],
   "source": [
    "ALLOWED_YEARS = [2017, 2018]\n",
    "\n",
    "if YEAR not in ALLOWED_YEARS:\n",
    "    raise Exception(\"Please select a year within: {}\".format(ALLOWED_YEARS))\n",
    "\n",
    "if YEAR == 2018 and MONTH == 3:\n",
    "    raise Exception(\n",
    "        \"Month 3 (March) is not available for 2018. Please choose a different month.\"\n",
    "    )"
   ]
  },
  {
   "cell_type": "markdown",
   "metadata": {
    "id": "vGbqOR2S1K3U"
   },
   "source": [
    "# Open Data\n",
    "\n"
   ]
  },
  {
   "cell_type": "markdown",
   "metadata": {
    "id": "QeSNyhPM1bGE"
   },
   "source": [
    "## City maps"
   ]
  },
  {
   "cell_type": "markdown",
   "metadata": {
    "id": "yKEG8Ai5871c"
   },
   "source": [
    "We will take a list of the neighbourhoods and districts with information to plot them from:\n",
    "\n",
    "https://opendata-ajuntament.barcelona.cat/data/en/dataset/20170706-districtes-barris"
   ]
  },
  {
   "cell_type": "code",
   "execution_count": 94,
   "metadata": {},
   "outputs": [],
   "source": [
    "geo_info = gpd.read_file(DIR_DATA / \"raw/0301100100_UNITATS_ADM_POLIGONS.json\")\n",
    "\n",
    "sect = geo_info[geo_info[\"SCONJ_DESC\"] == \"Secció censal\"]\n",
    "\n",
    "sect = sect[[\"DISTRICTE\", \"BARRI\", \"SEC_CENS\", \"geometry\"]]\n",
    "\n",
    "# Change the coordinates to latitude and longitude\n",
    "sect[\"geometry\"] = sect[\"geometry\"].to_crs(\"EPSG:4326\")\n",
    "\n",
    "sect.rename(\n",
    "    {\"DISTRICTE\": \"N_district\", \"BARRI\": \"N_neighbourhood\", \"SEC_CENS\": \"N_section\"},\n",
    "    axis=1,\n",
    "    inplace=True,\n",
    ")\n",
    "\n",
    "sect[\"Tag\"] = sect[\"N_district\"] + \"_\" + sect[\"N_section\"]\n",
    "sect.sort_values(by=[\"Tag\"], inplace=True)\n",
    "sect.set_index(\"Tag\", inplace=True)"
   ]
  },
  {
   "cell_type": "markdown",
   "metadata": {
    "id": "lJSO1B2RKp6S"
   },
   "source": [
    "We save the information required to plot the maps (`sect_geo`) in a JSON file. From now on, we will store the rest of the information in `sect` so it can be stores in a csv file that is easier to read for humans."
   ]
  },
  {
   "cell_type": "markdown",
   "metadata": {},
   "source": [
    "## Distance to city center"
   ]
  },
  {
   "cell_type": "markdown",
   "metadata": {},
   "source": [
    "We assume the city center to be \"Plaza Catalunya\" (2.1700471, 41.3870154) and we will compute the distance of the centroid of each section to it.\n",
    "\n",
    "To do so, we apply the *Haversine distance* between \"Plaza Catalunya\" and each centroid. Units chosen are km."
   ]
  },
  {
   "cell_type": "code",
   "execution_count": 95,
   "metadata": {},
   "outputs": [],
   "source": [
    "CITY_CENTER_COORDINATES = (2.1700471, 41.3870154)"
   ]
  },
  {
   "cell_type": "code",
   "execution_count": 96,
   "metadata": {},
   "outputs": [],
   "source": [
    "plaza_catalunya = Point(*CITY_CENTER_COORDINATES)\n",
    "d_haversine = harversine_distance_btw_geoseries_point(\n",
    "    sect[\"geometry\"].centroid, plaza_catalunya\n",
    ").to_frame(\"Distance_Center\")\n",
    "sect = merge_datasets(sect, d_haversine)"
   ]
  },
  {
   "cell_type": "markdown",
   "metadata": {},
   "source": [
    "## POI"
   ]
  },
  {
   "cell_type": "markdown",
   "metadata": {},
   "source": [
    "https://www.mitma.gob.es/vivienda/alquiler/indice-alquilerhttps://opendata-ajuntament.barcelona.cat/data/en/dataset/cens-activitats-comercials"
   ]
  },
  {
   "cell_type": "code",
   "execution_count": 97,
   "metadata": {},
   "outputs": [],
   "source": [
    "econ = pd.read_csv(DIR_DATA / \"raw/2019_censcomercialbcn_detall.csv\")\n",
    "\n",
    "econ = econ[\n",
    "    [\n",
    "        \"Codi_Sector_Activitat\",\n",
    "        \"Codi_Grup_Activitat\",\n",
    "        \"Codi_Activitat_2019\",\n",
    "        \"Nom_Grup_Activitat\",\n",
    "        \"Codi_Districte\",\n",
    "        \"Seccio_Censal\",\n",
    "    ]\n",
    "]\n",
    "econ.rename(\n",
    "    {\n",
    "        \"Codi_Sector_Activitat\": \"Code_sector\",\n",
    "        \"Codi_Grup_Activitat\": \"Code_group\",\n",
    "        \"Nom_Grup_Activitat\": \"Name_Group\",\n",
    "        \"Codi_Activitat_2019\": \"Code_activity\",\n",
    "        \"Codi_Districte\": \"N_district\",\n",
    "        \"Seccio_Censal\": \"N_section\",\n",
    "    },\n",
    "    axis=1,\n",
    "    inplace=True,\n",
    ")\n",
    "\n",
    "# Remove incorrect information\n",
    "econ = econ[econ[\"Code_group\"] != 0]\n",
    "econ.dropna(subset=[\"N_section\"], axis=0, inplace=True)\n",
    "econ[\"N_section\"] = econ[\"N_section\"].astype(\"int\")\n",
    "\n",
    "econ[\"Tag\"] = (\n",
    "    econ[\"N_district\"].map(\"{:02d}\".format)\n",
    "    + \"_\"\n",
    "    + econ[\"N_section\"].map(\"{:03d}\".format)\n",
    ")\n",
    "\n",
    "econ.drop([\"N_district\", \"N_section\"], axis=1, inplace=True)\n",
    "\n",
    "# Group by codes and count\n",
    "econ = (\n",
    "    econ.groupby([\"Tag\", \"Code_sector\", \"Code_group\", \"Code_activity\", \"Name_Group\"])\n",
    "    .size()\n",
    "    .to_frame(\"Count\")\n",
    "    .reset_index()\n",
    ")"
   ]
  },
  {
   "cell_type": "code",
   "execution_count": 98,
   "metadata": {},
   "outputs": [],
   "source": [
    "def sum_Points(acts):\n",
    "    result = pd.DataFrame(index=sect.index)\n",
    "    empty = pd.DataFrame(index=sect.index)\n",
    "    for i in acts:\n",
    "        empty[str(i)] = econ[econ[\"Code_activity\"] == i].set_index(\"Tag\")[\"Count\"]\n",
    "    empty.fillna(0, inplace=True)\n",
    "    result[\"myResult\"] = empty.sum(axis=1)\n",
    "    return result[\"myResult\"]"
   ]
  },
  {
   "cell_type": "code",
   "execution_count": 99,
   "metadata": {},
   "outputs": [],
   "source": [
    "econ_list = pd.DataFrame(index=sect.index)\n",
    "econ_group = (\n",
    "    econ.groupby([\"Tag\", \"Name_Group\"])[\"Count\"]\n",
    "    .agg(\"sum\")\n",
    "    .to_frame(\"Count\")\n",
    "    .reset_index()\n",
    ")\n",
    "\n",
    "# LIST OF CATEGORIES DEFINED\n",
    "category_names = {\n",
    "    \"POI_Daily_Food\": \"Quotidià alimentari\",\n",
    "    \"POI_Daily_Others\": \"Quotidià no alimentari\",\n",
    "    \"POI_House_Equipment\": \"Parament de la llar\",\n",
    "    \"POI_Clothing\": \"Equipament personal\",\n",
    "    \"POI_Culture\": \"Oci i cultura\",\n",
    "    \"POI_Vehicles\": \"Automoció\",\n",
    "    \"POI_State_Agents\": \"Activitats immobiliàries\",\n",
    "    \"POI_Education\": \"Ensenyament\",\n",
    "    \"POI_Finances\": \"Finances i assegurances\",\n",
    "    \"POI_Restaurants_Hotels\": \"Restaurants, bars i hotels (Inclòs hostals, pensions i fondes)\",\n",
    "    \"POI_Health\": \"Sanitat i assistència\",\n",
    "}\n",
    "\n",
    "# rename the categories according to the dictionary above\n",
    "for k, v in category_names.items():\n",
    "    econ_list[k] = (\n",
    "        econ_group[econ_group[\"Name_Group\"] == v]\n",
    "        .drop(\"Name_Group\", axis=1)\n",
    "        .set_index(\"Tag\")\n",
    "    )\n",
    "\n",
    "econ_list[\"POI_Souvenirs_Thrift_Store\"] = sum_Points([7004000, 7004010, 7004020])\n",
    "econ_list[\"POI_Car_Parks\"] = sum_Points([1600000])\n",
    "econ_list[\"POI_Esthetics\"] = sum_Points([1600600, 1600700, 1600800])\n",
    "econ_list[\"POI_Sports\"] = sum_Points([1700300, 1700310, 1700320])\n",
    "econ_list[\"POI_Religion\"] = sum_Points([1700400])\n",
    "econ_list[\"POI_Administration\"] = sum_Points([1700100])\n",
    "\n",
    "\n",
    "econ_list.fillna(0, inplace=True)\n",
    "econ_list = econ_list.astype(\"int\")\n",
    "\n",
    "# Merge the data\n",
    "sect = merge_datasets(sect, econ_list)"
   ]
  },
  {
   "cell_type": "markdown",
   "metadata": {},
   "source": [
    "# Inside Airbnb"
   ]
  },
  {
   "cell_type": "raw",
   "metadata": {},
   "source": [
    "# Dates in which the files were uploaded (so far)\n",
    "airbnb_dates = [\n",
    "    \"2015-04-30\",\n",
    "    \"2015-07-17\",\n",
    "    \"2015-09-04\",\n",
    "    \"2015-10-02\",\n",
    "    \"2016-01-03\",\n",
    "    \"2016-11-07\",\n",
    "    \"2016-12-08\",\n",
    "    \"2017-01-04\",\n",
    "    \"2017-02-09\",\n",
    "    \"2017-03-06\",\n",
    "    \"2017-04-08\",\n",
    "    \"2017-05-07\",\n",
    "    \"2017-06-05\",\n",
    "    \"2017-07-06\",\n",
    "    \"2017-08-06\",\n",
    "    \"2017-09-12\",\n",
    "    \"2017-10-07\",\n",
    "    \"2017-11-13\",\n",
    "    \"2017-12-09\",\n",
    "    \"2018-01-17\",\n",
    "    \"2018-02-07\",\n",
    "    \"2018-04-12\",\n",
    "    \"2018-05-14\",\n",
    "    \"2018-06-09\",\n",
    "    \"2018-07-10\",\n",
    "    \"2018-08-14\",\n",
    "    \"2018-09-11\",\n",
    "    \"2018-10-10\",\n",
    "    \"2018-11-07\",\n",
    "    \"2018-12-10\",\n",
    "    \"2019-01-14\",\n",
    "    \"2019-02-06\",\n",
    "    \"2019-03-08\",\n",
    "    \"2019-04-10\",\n",
    "    \"2019-05-14\",\n",
    "    \"2019-06-07\",\n",
    "    \"2019-07-10\",\n",
    "    \"2019-08-12\",\n",
    "    \"2019-09-17\",\n",
    "    \"2019-10-16\",\n",
    "    \"2019-11-09\",\n",
    "    \"2019-12-10\",\n",
    "    \"2020-01-10\",\n",
    "    \"2020-02-16\",\n",
    "    \"2020-03-16\",\n",
    "    \"2020-04-16\",\n",
    "    \"2020-05-11\",\n",
    "    \"2020-06-13\",\n",
    "    \"2020-07-17\",\n",
    "    \"2020-08-24\",\n",
    "    \"2020-09-12\",\n",
    "    \"2020-10-12\",\n",
    "    \"2020-11-06\",\n",
    "    \"2020-12-16\",\n",
    "    \"2021-01-12\",\n",
    "    \"2021-02-09\",\n",
    "]\n",
    "\n",
    "# Choose the data to download\n",
    "airbnb_chosen = [\n",
    "    i for i in airbnb_dates if i.startswith(str(YEAR) + \"-\" + \"{:02d}\".format(MONTH))\n",
    "]\n",
    "airbnb_chosen = pd.to_datetime(airbnb_chosen[0], format=\"%Y-%m-%d\", errors=\"ignore\")"
   ]
  },
  {
   "cell_type": "code",
   "execution_count": 100,
   "metadata": {},
   "outputs": [
    {
     "name": "stdout",
     "output_type": "stream",
     "text": [
      "File opened succesfully!\n",
      "Positions processed succesfully!\n"
     ]
    }
   ],
   "source": [
    "airbnb_number_sect = sect[[\"N_district\", \"N_section\"]]\n",
    "airbnb_price_sect = sect[[\"N_district\", \"N_section\"]]\n",
    "airbnb_price_person_sect = sect[[\"N_district\", \"N_section\"]]\n",
    "airbnb_loc_review_sect = sect[[\"N_district\", \"N_section\"]]\n",
    "\n",
    "###########################################################\n",
    "# df = get_insideairbnb_data(airbnb_chosen.year, airbnb_chosen.month, airbnb_chosen.day)\n",
    "df = pd.read_csv(\n",
    "    DIR_DATA / \"raw/inside_airbnb/listings_{}_{:02d}.csv\".format(YEAR, MONTH)\n",
    ")\n",
    "\n",
    "print(\"File opened succesfully!\")\n",
    "\n",
    "# date = airbnb_chosen.strftime(\"%Y_%m\")\n",
    "\n",
    "# Some rows are wrong\n",
    "df = df[df[\"price\"].str.contains(\"-\") == False]\n",
    "\n",
    "# Make the prices numbers and remove outliers (prices over 1000)\n",
    "df[\"price\"] = df[\"price\"].str.replace(\"$\", \"\").str.replace(\",\", \"\").astype(\"float\")\n",
    "df = df[df[\"price\"] < 1000]\n",
    "df[\"price_person\"] = df[\"price\"].div(df[\"accommodates\"])\n",
    "df[\"review_scores_location\"] = df[\"review_scores_location\"].astype(\"float\")\n",
    "\n",
    "df = df[[\"price\", \"price_person\", \"review_scores_location\", \"latitude\", \"longitude\"]]\n",
    "\n",
    "df = gpd.GeoDataFrame(df, geometry=gpd.points_from_xy(df.longitude, df.latitude))\n",
    "\n",
    "df.drop([\"longitude\", \"latitude\"], axis=1, inplace=True)\n",
    "\n",
    "# Set the column for the tags\n",
    "df[\"Tag\"] = -1\n",
    "\n",
    "# Classify the Airbnbs based on their location\n",
    "for i in range(len(sect.index)):\n",
    "    selection = df[\"geometry\"].within(sect[\"geometry\"][i])\n",
    "    selection_index = selection[selection].index\n",
    "    df.loc[selection_index, \"Tag\"] = sect.index[i]\n",
    "\n",
    "# Remove points that couldn't be classified\n",
    "df = df[df[\"Tag\"] != -1]\n",
    "\n",
    "print(\"Positions processed succesfully!\")\n",
    "\n",
    "\n",
    "########################################################################################################################3\n",
    "# # Extract the data from the file\n",
    "\n",
    "temp_number_sect = (\n",
    "    df[\"Tag\"].value_counts().rename(\"Airbnb_Number\").sort_index().to_frame()\n",
    ")\n",
    "\n",
    "temp_price_sect = (\n",
    "    df.groupby([\"Tag\"])[\"price\"].agg(\"mean\").rename(\"Airbnb_Price\").sort_index()\n",
    ").to_frame()\n",
    "\n",
    "temp_price_person_sect = (\n",
    "    df.groupby([\"Tag\"])[\"price_person\"]\n",
    "    .agg(\"mean\")\n",
    "    .rename(\"Airbnb_Price_Person\")\n",
    "    .sort_index()\n",
    ").to_frame()\n",
    "\n",
    "temp_loc_review_sect = (\n",
    "    df.groupby([\"Tag\"])[\"review_scores_location\"]\n",
    "    .agg(\"mean\")\n",
    "    .rename(\"Airbnb_Location_Score\")\n",
    "    .sort_index()\n",
    ").to_frame()\n",
    "\n",
    "sect = merge_datasets(sect, temp_number_sect)\n",
    "\n",
    "sect = merge_datasets(sect, temp_price_sect)\n",
    "\n",
    "sect = merge_datasets(sect, temp_price_person_sect)\n",
    "\n",
    "sect = merge_datasets(sect, temp_loc_review_sect)\n",
    "\n",
    "\n",
    "sect.fillna({\"Airbnb_Number\": 0}, inplace=True)\n",
    "sect[\"Airbnb_Number\"] = sect[\"Airbnb_Number\"].astype(\"int\")"
   ]
  },
  {
   "cell_type": "code",
   "execution_count": 101,
   "id": "7e440a95",
   "metadata": {},
   "outputs": [
    {
     "name": "stdout",
     "output_type": "stream",
     "text": [
      "Tag\n",
      "01_001    001\n",
      "01_002    002\n",
      "01_003    003\n",
      "01_004    004\n",
      "01_005    005\n",
      "01_006    006\n",
      "01_007    007\n",
      "01_008    008\n",
      "01_009    009\n",
      "01_010    010\n",
      "01_011    011\n",
      "01_012    012\n",
      "01_013    013\n",
      "01_014    014\n",
      "01_015    015\n",
      "01_016    016\n",
      "01_017    017\n",
      "01_018    018\n",
      "01_019    019\n",
      "01_020    020\n",
      "01_021    021\n",
      "01_022    022\n",
      "01_023    023\n",
      "01_025    025\n",
      "01_026    026\n",
      "01_027    027\n",
      "01_028    028\n",
      "01_029    029\n",
      "01_030    030\n",
      "01_031    031\n",
      "01_032    032\n",
      "01_033    033\n",
      "01_034    034\n",
      "01_035    035\n",
      "01_036    036\n",
      "01_037    037\n",
      "01_038    038\n",
      "01_039    039\n",
      "01_040    040\n",
      "01_041    041\n",
      "01_042    042\n",
      "01_043    043\n",
      "01_044    044\n",
      "01_045    045\n",
      "01_046    046\n",
      "01_047    047\n",
      "01_048    048\n",
      "01_049    049\n",
      "01_050    050\n",
      "01_051    051\n",
      "01_052    052\n",
      "01_053    053\n",
      "01_054    054\n",
      "01_055    055\n",
      "Name: N_section, dtype: object\n"
     ]
    }
   ],
   "source": [
    "print(sect[sect[\"N_district\"] == \"01\"][\"N_section\"])"
   ]
  },
  {
   "cell_type": "markdown",
   "metadata": {},
   "source": [
    "# Barcelona City Council"
   ]
  },
  {
   "cell_type": "markdown",
   "metadata": {},
   "source": [
    "## Gender"
   ]
  },
  {
   "cell_type": "markdown",
   "metadata": {},
   "source": [
    "https://ajuntament.barcelona.cat/estadistica/castella/Estadistiques_per_temes/Poblacio_i_demografia/Poblacio/Xifres_oficials_poblacio/a2018/sexe/sc.htm"
   ]
  },
  {
   "cell_type": "code",
   "execution_count": 102,
   "metadata": {},
   "outputs": [],
   "source": [
    "table_gender = pd.read_html(\n",
    "    (\n",
    "        f\"https://ajuntament.barcelona.cat/estadistica/castella/Estadistiques_per_temes/Poblacio_i_demografia/Poblacio/Xifres_oficials_poblacio/a{YEAR}/sexe/sc.htm\"\n",
    "    ),\n",
    "    thousands=\".\",\n",
    ")\n",
    "\n",
    "gender = table_gender[0]\n",
    "gender.columns = gender.loc[4]\n",
    "gender.drop(\n",
    "    labels=[0, 1, 2, 3, 4, 5, 6, 7, 8, 1077, 1078, 1079, 1080, 1081, 1082],\n",
    "    axis=0,\n",
    "    inplace=True,\n",
    ")\n",
    "gender = gender.loc[:, ~gender.columns.duplicated()]\n",
    "gender[[\"N_district\", \"N_section\"]] = (\n",
    "    gender[\"Dto. SC\"].str.split(\" \", 1, expand=True).astype(\"int\")\n",
    ")\n",
    "gender[\"Tag\"] = (\n",
    "    gender[\"N_district\"].map(\"{:02d}\".format)\n",
    "    + \"_\"\n",
    "    + gender[\"N_section\"].map(\"{:03d}\".format)\n",
    ")\n",
    "gender.columns.name = None\n",
    "\n",
    "gender.set_index(\"Tag\", inplace=True)\n",
    "\n",
    "gender[\"Mujeres\"] = gender[\"Mujeres\"].astype(\"int\").div(gender[\"TOTAL\"].astype(\"int\"))\n",
    "\n",
    "gender.drop(\n",
    "    [\"Dto. SC\", \"N_district\", \"N_section\", \"Hombres\", \"TOTAL\"], axis=1, inplace=True\n",
    ")\n",
    "\n",
    "gender.rename({\"Mujeres\": \"Percentage_Gender_Female\"}, axis=1, inplace=True)\n",
    "\n",
    "sect = merge_datasets(sect, gender)"
   ]
  },
  {
   "cell_type": "markdown",
   "metadata": {},
   "source": [
    "# Age"
   ]
  },
  {
   "cell_type": "markdown",
   "metadata": {},
   "source": [
    "http://www.bcn.cat/estadistica/castella/dades/tpob/pad/padro/a2017/edat/edatg11.htm"
   ]
  },
  {
   "cell_type": "code",
   "execution_count": 103,
   "metadata": {},
   "outputs": [],
   "source": [
    "table_age = pd.read_html(\n",
    "    f\"https://ajuntament.barcelona.cat/estadistica/castella/Estadistiques_per_temes/Poblacio_i_demografia/Poblacio/Xifres_oficials_poblacio/a{YEAR}/edat/edata11.htm\",\n",
    "    thousands=\".\",\n",
    ")\n",
    "\n",
    "age = table_age[0]\n",
    "age.columns = age.loc[4]\n",
    "age.drop(\n",
    "    labels=[0, 1, 2, 3, 4, 5, 6, 7, 8, 1077, 1078, 1079, 1080, 1081, 1082],\n",
    "    axis=0,\n",
    "    inplace=True,\n",
    ")\n",
    "age = age.loc[:, ~age.columns.duplicated()]\n",
    "age[[\"N_district\", \"N_section\"]] = (\n",
    "    age[\"Dto. SC\"].str.split(\" \", 1, expand=True).astype(\"int\")\n",
    ")\n",
    "age[\"Tag\"] = (\n",
    "    age[\"N_district\"].map(\"{:02d}\".format) + \"_\" + age[\"N_section\"].map(\"{:03d}\".format)\n",
    ")\n",
    "age.columns.name = None\n",
    "\n",
    "age.set_index(\"Tag\", inplace=True)\n",
    "\n",
    "age\n",
    "\n",
    "# Edad ahora viene guardada por año\n",
    "# age.rename(\n",
    "#     {\n",
    "#         \"0-14 años\": \"Percentage_Age_0_14\",\n",
    "#         \"15-24 años\": \"Percentage_Age_15_24\",\n",
    "#         \"25-39 años\": \"Percentage_Age_25_39\",\n",
    "#         \"40-64 años\": \"Percentage_Age_40_64\",\n",
    "#         \"65 años y más\": \"Percentage_Age_65_Plus\",\n",
    "#     },\n",
    "#     axis=1,\n",
    "#     inplace=True,\n",
    "# )\n",
    "\n",
    "regex_0_14 = \"(1[0-4] año[s]?)|([0-9] año[s]?)\"\n",
    "regex_15_24 = \"(1[5-9] año[s]?)|(2[0-4] año[s]?)\"\n",
    "regex_25_39 = \"(2[5-9] año[s]?)|(3[0-9] año[s]?)\"\n",
    "regex_40_64 = \"([4-5][0-9] año[s]?)|(6[0-4] año[s]?)\"\n",
    "regex_65_Plus = \"(6[5-9] años)|([7-9][0-9] años)\"\n",
    "\n",
    "age[\"Percentage_Age_0_14\"] = (\n",
    "    age[age.columns[age.columns.str.fullmatch(regex_0_14)]].astype(int).sum(axis=1)\n",
    ")\n",
    "age[\"Percentage_Age_15_24\"] = (\n",
    "    age[age.columns[age.columns.str.fullmatch(regex_15_24)]].astype(int).sum(axis=1)\n",
    ")\n",
    "age[\"Percentage_Age_25_39\"] = (\n",
    "    age[age.columns[age.columns.str.fullmatch(regex_25_39)]].astype(int).sum(axis=1)\n",
    ")\n",
    "age[\"Percentage_Age_40_64\"] = (\n",
    "    age[age.columns[age.columns.str.fullmatch(regex_40_64)]].astype(int).sum(axis=1)\n",
    ")\n",
    "age[\"Percentage_Age_65_Plus\"] = (\n",
    "    age[age.columns[age.columns.str.contains(regex_65_Plus)]].astype(int).sum(axis=1)\n",
    ")\n",
    "\n",
    "age.drop(\n",
    "    [\"Dto. SC\", \"N_district\", \"N_section\"]\n",
    "    + list(age.columns[age.columns.str.contains(\"año\")]),\n",
    "    axis=1,\n",
    "    inplace=True,\n",
    ")\n",
    "\n",
    "for col in reversed(age.columns):\n",
    "    age[col] = age[col].astype(\"int\").div(age[\"TOTAL\"].astype(\"int\"))\n",
    "\n",
    "age.drop([\"TOTAL\"], axis=1, inplace=True)\n",
    "\n",
    "sect = merge_datasets(sect, age)"
   ]
  },
  {
   "cell_type": "markdown",
   "metadata": {},
   "source": [
    "## Mean household"
   ]
  },
  {
   "cell_type": "markdown",
   "metadata": {},
   "source": [
    "http://www.bcn.cat/estadistica/castella/dades/tpob/pad/padro/a2017/llars/ocu04.htm"
   ]
  },
  {
   "cell_type": "code",
   "execution_count": 104,
   "metadata": {},
   "outputs": [],
   "source": [
    "table_household = pd.read_html(\n",
    "    f\"https://ajuntament.barcelona.cat/estadistica/castella/Estadistiques_per_temes/Poblacio_i_demografia/Llars_i_domicilis/Domicilis_padronals/a{YEAR}/persones/ocu04.htm\",\n",
    "    thousands=\".\",\n",
    "    decimal=\",\",\n",
    ")\n",
    "\n",
    "household = table_household[0]\n",
    "household.columns = household.loc[4]\n",
    "household.drop(\n",
    "    labels=[0, 1, 2, 3, 4, 5, 6, 7, 8, 1077, 1078, 1079, 1080, 1081],\n",
    "    axis=0,\n",
    "    inplace=True,\n",
    ")\n",
    "household = household.loc[:, ~household.columns.duplicated()]\n",
    "household[[\"N_district\", \"N_section\"]] = (\n",
    "    household[\"Dto. SC\"].str.split(\" \", 1, expand=True).astype(\"int\")\n",
    ")\n",
    "household[\"Tag\"] = (\n",
    "    household[\"N_district\"].map(\"{:02d}\".format)\n",
    "    + \"_\"\n",
    "    + household[\"N_section\"].map(\"{:03d}\".format)\n",
    ")\n",
    "household.columns.name = None\n",
    "\n",
    "household.set_index(\"Tag\", inplace=True)\n",
    "\n",
    "household.drop(\n",
    "    [\"Dto. SC\", \"N_district\", \"N_section\", \"Población\", \"Domicilios\"],\n",
    "    axis=1,\n",
    "    inplace=True,\n",
    ")\n",
    "\n",
    "household.rename(\n",
    "    {\"Ocupación media (personas por domicilio)\": \"Household\"}, axis=1, inplace=True\n",
    ")\n",
    "\n",
    "household[\"Household\"] = household[\"Household\"].astype(\"float\")\n",
    "\n",
    "sect = merge_datasets(sect, household)"
   ]
  },
  {
   "cell_type": "markdown",
   "metadata": {},
   "source": [
    "## Education Level"
   ]
  },
  {
   "cell_type": "markdown",
   "metadata": {},
   "source": [
    "Given the Spanish education system, the groups are defined as:\n",
    "\n",
    "\n",
    "*   Elementary School = Primaria (6-12 years)\n",
    "*   Middle School = Secundaria (13-16 years)\n",
    "*   High School = Bachillerato (17-18 years)\n",
    "\n",
    "The data is extracted from:\n",
    "\n",
    "\n",
    "http://www.bcn.cat/estadistica/angles/dades/tpob/pad/padro/a2017/nivi/nivi05.htm"
   ]
  },
  {
   "cell_type": "code",
   "execution_count": 105,
   "metadata": {},
   "outputs": [],
   "source": [
    "table_education = pd.read_html(\n",
    "    f\"https://ajuntament.barcelona.cat/estadistica/castella/Estadistiques_per_temes/Poblacio_i_demografia/Poblacio/Padro_municipal_habitants/a{YEAR}/nivi/nivi11.htm\",\n",
    "    thousands=\".\",\n",
    ")\n",
    "\n",
    "education = table_education[0]\n",
    "education.columns = education.loc[4]\n",
    "education.drop(\n",
    "    labels=[0, 1, 2, 3, 4, 5, 6, 7, 8, 1077, 1078, 1079, 1080, 1081, 1082],\n",
    "    axis=0,\n",
    "    inplace=True,\n",
    ")\n",
    "education = education.loc[:, ~education.columns.duplicated()]\n",
    "education[[\"N_district\", \"N_section\"]] = (\n",
    "    education[\"Dto. SC\"].str.split(\" \", 1, expand=True).astype(\"int\")\n",
    ")\n",
    "education[\"Tag\"] = (\n",
    "    education[\"N_district\"].map(\"{:02d}\".format)\n",
    "    + \"_\"\n",
    "    + education[\"N_section\"].map(\"{:03d}\".format)\n",
    ")\n",
    "education.columns.name = None\n",
    "\n",
    "education.set_index(\"Tag\", inplace=True)\n",
    "\n",
    "education.rename(\n",
    "    {\n",
    "        \"Sin estudios\": \"Education_None\",\n",
    "        \"Estudios primarios / certificado de escolaridad / EGB\": \"Education_Primary_School\",\n",
    "        \"Bachillerato elemental / graduado escolar / ESO / FPI\": \"Education_Middle_School\",\n",
    "        \"Bachillerato superior / BUP / COU / FPII / CFGM grado medio\": \"Education_High_School\",\n",
    "        \"Estudios universitarios / CFGS grado superior\": \"Education_University\",\n",
    "    },\n",
    "    axis=1,\n",
    "    inplace=True,\n",
    ")\n",
    "\n",
    "\n",
    "education.drop(\n",
    "    [\"Dto. SC\", \"N_district\", \"N_section\", \"No consta\"],\n",
    "    axis=1,\n",
    "    inplace=True,\n",
    ")\n",
    "\n",
    "for col in reversed(education.columns):\n",
    "    education[col] = education[col].astype(\"int\").div(education[\"TOTAL\"].astype(\"int\"))\n",
    "\n",
    "education.drop(\n",
    "    [\"TOTAL\"],\n",
    "    axis=1,\n",
    "    inplace=True,\n",
    ")\n",
    "\n",
    "sect = merge_datasets(sect, education)"
   ]
  },
  {
   "cell_type": "markdown",
   "metadata": {},
   "source": [
    "## Country of Origin"
   ]
  },
  {
   "cell_type": "markdown",
   "metadata": {},
   "source": [
    "http://www.bcn.cat/estadistica/castella/dades/tpob/pad/padro/a2017/nacio/nacio11.htm"
   ]
  },
  {
   "cell_type": "code",
   "execution_count": 106,
   "metadata": {},
   "outputs": [],
   "source": [
    "table_nationality = pd.read_html(\n",
    "    f\"https://ajuntament.barcelona.cat/estadistica/castella/Estadistiques_per_temes/Poblacio_i_demografia/Poblacio/Padro_municipal_habitants/a{YEAR}/nacio/nacio11.htm\",\n",
    "    thousands=\".\",\n",
    "    decimal=\",\",\n",
    ")\n",
    "\n",
    "nationality = table_nationality[0]\n",
    "nationality.columns = nationality.loc[5]\n",
    "nationality.drop(\n",
    "    labels=[0, 1, 2, 3, 4, 5, 6, 7, 8, 9, 1078, 1079, 1080, 1081],\n",
    "    axis=0,\n",
    "    inplace=True,\n",
    ")\n",
    "nationality = nationality.loc[:, ~nationality.columns.duplicated()]\n",
    "nationality[[\"N_district\", \"N_section\"]] = (\n",
    "    nationality[\"Dto. SC\"].str.split(\" \", 1, expand=True).astype(\"int\")\n",
    ")\n",
    "nationality[\"Tag\"] = (\n",
    "    nationality[\"N_district\"].map(\"{:02d}\".format)\n",
    "    + \"_\"\n",
    "    + nationality[\"N_section\"].map(\"{:03d}\".format)\n",
    ")\n",
    "nationality.columns.name = None\n",
    "\n",
    "nationality.set_index(\"Tag\", inplace=True)\n",
    "\n",
    "nationality.drop(\n",
    "    [\n",
    "        \"Dto. SC\",\n",
    "        \"N_district\",\n",
    "        \"N_section\",\n",
    "        \"Total\",\n",
    "        \"Resto países\",\n",
    "        \"Apátridas / No consta\",\n",
    "    ],\n",
    "    axis=1,\n",
    "    inplace=True,\n",
    ")\n",
    "\n",
    "nationality.dropna(axis=1, inplace=True)\n",
    "nationality = nationality.astype(\"int\")\n",
    "nationality.rename(\n",
    "    {\n",
    "        \"España\": \"Nationality_Spain\",\n",
    "        \"Italia\": \"Nationality_Italy\",\n",
    "        \"Francia\": \"Nationality_France\",\n",
    "        \"Reino Unido\": \"Nationality_UK\",\n",
    "        \"Rumanía\": \"Nationality_Romania\",\n",
    "        \"Alemania\": \"Nationality_Germany\",\n",
    "        \"Rusia\": \"Nationality_Russia\",\n",
    "        \"Ucrania\": \"Nationality_Ucrany\",\n",
    "        \"Portugal\": \"Nationality_Portugal\",\n",
    "        \"Países Bajos\": \"Nationality_Netherlands\",\n",
    "        \"Polonia\": \"Nationality_Poland\",\n",
    "        \"Bulgaria\": \"Nationality_Bulgaria\",\n",
    "        \"Suecia\": \"Nationality_Sweden\",\n",
    "        \"Bélgica\": \"Nationality_Belgium\",\n",
    "        \"Irlanda\": \"Nationality_Ireland\",\n",
    "        \"Grecia\": \"Nationality_Greece\",\n",
    "        \"Marruecos\": \"Nationality_Morocco\",\n",
    "        \"Argelia\": \"Nationality_Argelia\",\n",
    "        \"Senegal\": \"Nationality_Senegal\",\n",
    "        \"Bolivia\": \"Nationality_Bolivia\",\n",
    "        \"Colombia\": \"Nationality_Colombia\",\n",
    "        \"Perú\": \"Nationality_Peru\",\n",
    "        \"Ecuador\": \"Nationality_Ecuador\",\n",
    "        \"Honduras\": \"Nationality_Honduras\",\n",
    "        \"Brasil\": \"Nationality_Brazil\",\n",
    "        \"Venezuela\": \"Nationality_Venezuela\",\n",
    "        \"Argentina\": \"Nationality_Argentina\",\n",
    "        \"República Dominicana\": \"Nationality_Dominican_Republic\",\n",
    "        \"Estados Unidos, los\": \"Nationality_USA\",\n",
    "        \"México\": \"Nationality_Mexico\",\n",
    "        \"Paraguay\": \"Nationality_Paraguay\",\n",
    "        \"Chile\": \"Nationality_Chile\",\n",
    "        \"Cuba\": \"Nationality_Cuba\",\n",
    "        \"Uruguay\": \"Nationality_Uruguay\",\n",
    "        \"el Salvador\": \"Nationality_Salvador\",\n",
    "        \"China\": \"Nationality_China\",\n",
    "        \"Pakistán\": \"Nationality_Pakistan\",\n",
    "        \"Filipinas\": \"Nationality_Philippines\",\n",
    "        \"India\": \"Nationality_India\",\n",
    "        \"Bangladesh\": \"Nationality_Bangladesh\",\n",
    "        \"Georgia\": \"Nationality_Georgia\",\n",
    "        \"Armenia\": \"Nationality_Armenia\",\n",
    "        \"Japón\": \"Nationality_Japan\",\n",
    "        \"Nepal\": \"Nationality_Nepal\",\n",
    "        \"Oceanía\": \"Nationality_Oceania\",\n",
    "    },\n",
    "    axis=1,\n",
    "    inplace=True,\n",
    ")\n",
    "\n",
    "for col in reversed(nationality.columns):\n",
    "    nationality[col] = nationality[col].div(nationality[\"TOTAL\"])\n",
    "\n",
    "nationality.drop([\"TOTAL\"], axis=1, inplace=True)\n",
    "\n",
    "sect = merge_datasets(sect, nationality)"
   ]
  },
  {
   "cell_type": "markdown",
   "metadata": {},
   "source": [
    "# Ministerio de Transportes, Movilidad y Agenda Urbana"
   ]
  },
  {
   "cell_type": "markdown",
   "metadata": {},
   "source": [
    "https://www.mitma.gob.es/vivienda/alquiler/indice-alquiler\n",
    "\n",
    "https://cdn.mitma.gob.es/portal-web-drupal/alquiler/Sistema_Indice_Alquiler_Vivienda.xlsx"
   ]
  },
  {
   "cell_type": "code",
   "execution_count": 107,
   "metadata": {},
   "outputs": [],
   "source": [
    "rent = pd.read_excel(\n",
    "    \"https://cdn.mitma.gob.es/portal-web-drupal/alquiler/Sistema_Indice_Alquiler_Vivienda.xlsx\",\n",
    "    sheet_name=\"SeccionesCensales\",\n",
    "    converters={\"CUDMUN\": str, \"CUSEC\": str},\n",
    ")\n",
    "rent = rent[rent[\"CUDMUN\"] == \"08019\"]\n",
    "rent[\"Tag\"] = rent[\"CUSEC\"].str[5:7] + \"_\" + rent[\"CUSEC\"].str[7:10]\n",
    "rent.set_index(\"Tag\", inplace=True)\n",
    "\n",
    "suffix_year = str(YEAR)[2:4]\n",
    "\n",
    "rent = rent[\n",
    "    [\n",
    "        \"BI_ALVHEPCO_TVC_\" + suffix_year,\n",
    "        \"BI_ALVHEPCO_TVU_\" + suffix_year,\n",
    "        \"ALQM2mes_LV_M_VC_\" + suffix_year,\n",
    "        \"ALQM2mes_LV_M_VU_\" + suffix_year,\n",
    "        \"ALQTBID12_M_VC_\" + suffix_year,\n",
    "        \"ALQTBID12_M_VU_\" + suffix_year,\n",
    "        \"SLVM2_M_VC_\" + suffix_year,\n",
    "        \"SLVM2_M_VU_\" + suffix_year,\n",
    "    ]\n",
    "]\n",
    "\n",
    "rent.rename(\n",
    "    {\n",
    "        \"BI_ALVHEPCO_TVC_\" + suffix_year: \"Rent_Number_Flats\",\n",
    "        \"BI_ALVHEPCO_TVU_\" + suffix_year: \"Rent_Number_Detached\",\n",
    "        \"ALQM2mes_LV_M_VC_\" + suffix_year: \"Rent_Price_Meter_Flats\",\n",
    "        \"ALQM2mes_LV_M_VU_\" + suffix_year: \"Rent_Price_Meter_Detached\",\n",
    "        \"ALQTBID12_M_VC_\" + suffix_year: \"Rent_Price_Total_Flats\",\n",
    "        \"ALQTBID12_M_VU_\" + suffix_year: \"Rent_Price_Total_Detached\",\n",
    "        \"SLVM2_M_VC_\" + suffix_year: \"Rent_Area_Flats\",\n",
    "        \"SLVM2_M_VU_\" + suffix_year: \"Rent_Area_Detached\",\n",
    "    },\n",
    "    axis=1,\n",
    "    inplace=True,\n",
    ")\n",
    "\n",
    "rent.fillna({\"Rent_Number_Flats\": 0, \"Rent_Number_Detached\": 0}, inplace=True)\n",
    "rent[\"Rent_Number_Flats\"] = rent[\"Rent_Number_Flats\"].astype(\"int\")\n",
    "rent[\"Rent_Number_Detached\"] = rent[\"Rent_Number_Detached\"].astype(\"int\")\n",
    "\n",
    "sect = merge_datasets(sect, rent)"
   ]
  },
  {
   "cell_type": "markdown",
   "metadata": {},
   "source": [
    "# Check missing values"
   ]
  },
  {
   "cell_type": "code",
   "execution_count": 108,
   "metadata": {},
   "outputs": [
    {
     "data": {
      "text/plain": [
       "<AxesSubplot: >"
      ]
     },
     "execution_count": 108,
     "metadata": {},
     "output_type": "execute_result"
    },
    {
     "data": {
      "image/png": "[encoded data removed]",
      "text/plain": [
       "<Figure size 2500x1000 with 2 Axes>"
      ]
     },
     "metadata": {},
     "output_type": "display_data"
    }
   ],
   "source": [
    "msno.matrix(sect)"
   ]
  },
  {
   "cell_type": "markdown",
   "metadata": {},
   "source": [
    "The features related to detached houses have around 90% of missing values. Therefore, we will drop the following features:\n",
    "* *Rent_Number_Detached*\n",
    "* *Rent_Price_Meter_Detached*\n",
    "* *Rent_Price_Total_Detached*\n",
    "* *Rent_Area_Detached*\n",
    "\n",
    "For ther rest, the number of missing values is not significant. We will use an imputer in later stages to fill those values."
   ]
  },
  {
   "cell_type": "code",
   "execution_count": 109,
   "metadata": {},
   "outputs": [],
   "source": [
    "sect.drop(\n",
    "    [\n",
    "        \"Rent_Number_Detached\",\n",
    "        \"Rent_Price_Meter_Detached\",\n",
    "        \"Rent_Price_Total_Detached\",\n",
    "        \"Rent_Area_Detached\",\n",
    "    ],\n",
    "    axis=1,\n",
    "    inplace=True,\n",
    ")"
   ]
  },
  {
   "cell_type": "markdown",
   "metadata": {},
   "source": [
    "# Save Data"
   ]
  },
  {
   "cell_type": "code",
   "execution_count": 110,
   "metadata": {},
   "outputs": [],
   "source": [
    "if SAVE_DATA:\n",
    "    sections_json_pathname = DIR_DATA / \"interim/sections_geo.json\"\n",
    "    if not sections_json_pathname.is_file():\n",
    "        sect[[\"geometry\"]].to_file(sections_json_pathname, driver=\"GeoJSON\")\n",
    "    sect.drop([\"geometry\"], axis=1, inplace=True)\n",
    "    sect.to_csv(DIR_DATA / \"interim/sections_{}_{:02d}.csv\".format(YEAR, MONTH))"
   ]
  },
  {
   "cell_type": "markdown",
   "metadata": {},
   "source": [
    "# Watermark"
   ]
  },
  {
   "cell_type": "code",
   "execution_count": 111,
   "metadata": {},
   "outputs": [
    {
     "name": "stdout",
     "output_type": "stream",
     "text": [
      "The watermark extension is already loaded. To reload it, use:\n",
      "  %reload_ext watermark\n"
     ]
    }
   ],
   "source": [
    "%load_ext watermark"
   ]
  },
  {
   "cell_type": "code",
   "execution_count": 112,
   "metadata": {},
   "outputs": [
    {
     "name": "stdout",
     "output_type": "stream",
     "text": [
      "Author: Joaquín Carreño\n",
      "\n",
      "Last updated: 2024-01-24 13:51:09\n",
      "\n",
      "Python implementation: CPython\n",
      "Python version       : 3.9.18\n",
      "IPython version      : 8.18.1\n",
      "\n",
      "Compiler    : GCC 12.3.0\n",
      "OS          : Linux\n",
      "Release     : 6.5.0-14-generic\n",
      "Machine     : x86_64\n",
      "Processor   : x86_64\n",
      "CPU cores   : 6\n",
      "Architecture: 64bit\n",
      "\n",
      "Git hash: 192d1280a5acdac00a7aa4cd1acd61ef33c49196\n",
      "\n",
      "Git branch: master\n",
      "\n",
      "Watermark: 2.4.3\n",
      "\n"
     ]
    }
   ],
   "source": [
    "# NBVAL_IGNORE_OUTPUT\n",
    "%watermark -a \"Joaquín Carreño\" -u -d -t -v -m -g -wb"
   ]
  },
  {
   "cell_type": "markdown",
   "id": "8f2f2cec",
   "metadata": {},
   "source": []
  },
  {
   "cell_type": "code",
   "execution_count": 113,
   "metadata": {},
   "outputs": [
    {
     "name": "stdout",
     "output_type": "stream",
     "text": [
      "pandas   : 1.5.3\n",
      "missingno: 0.4.2\n",
      "geopandas: 0.14.2\n",
      "lxml     : 5.1.0\n",
      "numpy    : 1.23.5\n",
      "\n"
     ]
    }
   ],
   "source": [
    "# NBVAL_IGNORE_OUTPUT\n",
    "%watermark -iv"
   ]
  }
 ],
 "metadata": {
  "colab": {
   "collapsed_sections": [],
   "name": "00acquisition.ipynb",
   "provenance": [],
   "toc_visible": true
  },
  "kernelspec": {
   "display_name": "urbana",
   "language": "python",
   "name": "python3"
  },
  "language_info": {
   "codemirror_mode": {
    "name": "ipython",
    "version": 3
   },
   "file_extension": ".py",
   "mimetype": "text/x-python",
   "name": "python",
   "nbconvert_exporter": "python",
   "pygments_lexer": "ipython3",
   "version": "3.9.18"
  },
  "metadata": {
   "interpreter": {
    "hash": "75551eae25902e7c9422ff6618bbfeee8e1d3f76c165a44249dd0a63c4caa495"
   }
  }
 },
 "nbformat": 4,
 "nbformat_minor": 5
}
